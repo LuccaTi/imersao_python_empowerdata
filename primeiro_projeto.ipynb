{
 "cells": [
  {
   "cell_type": "markdown",
   "id": "712a070c-e813-4d91-9dea-0fdfdc02b629",
   "metadata": {},
   "source": [
    "## Imersão Python - Primeiro projeto, gerar PDF"
   ]
  },
  {
   "cell_type": "code",
   "execution_count": 8,
   "id": "a3b909dc-006d-45ea-9092-ef8781235072",
   "metadata": {},
   "outputs": [
    {
     "name": "stdin",
     "output_type": "stream",
     "text": [
      "Digite a descrição do projeto:  Desenvolvimento Python\n",
      "Digite o total de horas estimadas:  60\n",
      "Digite o valor da hora trabalhada:  120\n",
      "Digite o prazo para a realização do projeto:  2 meses\n"
     ]
    }
   ],
   "source": [
    "projeto = input(\"Digite a descrição do projeto: \")\n",
    "horas_estimadas = input(\"Digite o total de horas estimadas: \")\n",
    "valor_hora = input(\"Digite o valor da hora trabalhada: \")\n",
    "prazo_estimado = input (\"Digite o prazo para a realização do projeto: \")"
   ]
  },
  {
   "cell_type": "code",
   "execution_count": 9,
   "id": "c364e69d-b191-43d0-a629-1b79a308cf14",
   "metadata": {},
   "outputs": [
    {
     "name": "stdout",
     "output_type": "stream",
     "text": [
      "valor total estimado: 7200\n"
     ]
    }
   ],
   "source": [
    "valor_total_estimado = int(valor_hora) * int(horas_estimadas)\n",
    "print(f\"valor total estimado: {valor_total_estimado}\")"
   ]
  },
  {
   "cell_type": "code",
   "execution_count": 10,
   "id": "d835db84-bb49-4440-a4d8-1f0ab29c406e",
   "metadata": {},
   "outputs": [
    {
     "name": "stdout",
     "output_type": "stream",
     "text": [
      "Defaulting to user installation because normal site-packages is not writeable\n",
      "Requirement already satisfied: fpdf in c:\\users\\lucca\\appdata\\roaming\\python\\python311\\site-packages (1.7.2)\n"
     ]
    }
   ],
   "source": [
    "# Instalando a biblioteca:\n",
    "!pip install fpdf"
   ]
  },
  {
   "cell_type": "code",
   "execution_count": 11,
   "id": "5b4fce56-06a7-4098-87bc-7c9fb9f4d41e",
   "metadata": {},
   "outputs": [],
   "source": [
    "# Importando a biblioteca para o programa:\n",
    "from fpdf import FPDF"
   ]
  },
  {
   "cell_type": "code",
   "execution_count": 12,
   "id": "e1808810-b7da-49e4-8100-cdf38f333882",
   "metadata": {},
   "outputs": [],
   "source": [
    "# Criando um arquivo PDF:\n",
    "pdf = FPDF()\n",
    "pdf.add_page()\n",
    "pdf.set_font(\"Arial\")"
   ]
  },
  {
   "cell_type": "code",
   "execution_count": 13,
   "id": "834048be-1ecd-4396-a96a-af1f8494d0cf",
   "metadata": {},
   "outputs": [],
   "source": [
    "# Utilizando um template:\n",
    "pdf.image(\"template.png\", x = 0, y = 0)\n",
    "\n",
    "# inserindo os dados do projeto\n",
    "pdf.text(115, 145, projeto)\n",
    "pdf.text(115, 160, horas_estimadas)\n",
    "pdf.text(115, 175, valor_hora)\n",
    "pdf.text(115, 190, prazo_estimado)\n",
    "pdf.text(115, 205, str(valor_total_estimado))"
   ]
  },
  {
   "cell_type": "code",
   "execution_count": 14,
   "id": "ed9b6f98-30e7-4f5f-a956-6f27723a2527",
   "metadata": {},
   "outputs": [
    {
     "name": "stdout",
     "output_type": "stream",
     "text": [
      "Orçamento gerado com sucesso!\n"
     ]
    }
   ],
   "source": [
    "pdf.output(\"Orçamento.pdf\")\n",
    "print(\"Orçamento gerado com sucesso!\")"
   ]
  },
  {
   "cell_type": "code",
   "execution_count": null,
   "id": "0b02c885-9ca6-4c5e-b2e4-c223bf65af2d",
   "metadata": {},
   "outputs": [],
   "source": []
  }
 ],
 "metadata": {
  "kernelspec": {
   "display_name": "Python 3 (ipykernel)",
   "language": "python",
   "name": "python3"
  },
  "language_info": {
   "codemirror_mode": {
    "name": "ipython",
    "version": 3
   },
   "file_extension": ".py",
   "mimetype": "text/x-python",
   "name": "python",
   "nbconvert_exporter": "python",
   "pygments_lexer": "ipython3",
   "version": "3.11.7"
  }
 },
 "nbformat": 4,
 "nbformat_minor": 5
}
