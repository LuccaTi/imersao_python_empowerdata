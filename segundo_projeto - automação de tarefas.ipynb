{
 "cells": [
  {
   "cell_type": "markdown",
   "id": "e0d4d931-fdba-4de9-8eea-ad6fa70274a5",
   "metadata": {},
   "source": [
    "## Imersão Python - Segundo projeto, automatização de tarefas"
   ]
  },
  {
   "cell_type": "code",
   "execution_count": null,
   "id": "b5087f68-eef3-41e0-b64e-5f424faa5b01",
   "metadata": {},
   "outputs": [],
   "source": [
    "#Instalando a biblioteca:\n",
    "!pip install yfinance"
   ]
  },
  {
   "cell_type": "code",
   "execution_count": null,
   "id": "7555e434-e33d-4de2-b204-335c740cabf6",
   "metadata": {},
   "outputs": [],
   "source": [
    "#Importando a biblioteca:\n",
    "import yfinance"
   ]
  },
  {
   "cell_type": "code",
   "execution_count": null,
   "id": "ef8db0a6-29b0-4884-b47e-cf22fd12f8f0",
   "metadata": {},
   "outputs": [],
   "source": [
    "#Buscando as cotações de uma ação:\n",
    "ticker = input(\"Digite o código da ação: \")\n",
    "dados = yfinance.Ticker(ticker)"
   ]
  },
  {
   "cell_type": "code",
   "execution_count": null,
   "id": "9a00eb80-5c6e-43f8-93b8-d2b404eadf42",
   "metadata": {},
   "outputs": [],
   "source": [
    "dados.history()"
   ]
  },
  {
   "cell_type": "code",
   "execution_count": null,
   "id": "e5989e7a-a033-4ec6-80b9-0106acca513d",
   "metadata": {},
   "outputs": [],
   "source": [
    "tabela = dados.history(\"6mo\")\n",
    "tabela\n",
    "                    "
   ]
  },
  {
   "cell_type": "code",
   "execution_count": null,
   "id": "f16c0d65-ab1f-4ea3-b391-5ff0388f66a9",
   "metadata": {},
   "outputs": [],
   "source": [
    "fechamento = tabela.Close\n",
    "fechamento\n",
    "\n"
   ]
  },
  {
   "cell_type": "code",
   "execution_count": null,
   "id": "53ec3180-1715-45a9-b08d-6062919edc67",
   "metadata": {},
   "outputs": [],
   "source": [
    "fechamento.plot()"
   ]
  },
  {
   "cell_type": "code",
   "execution_count": null,
   "id": "89668882-6230-4225-8c49-a2dd4e8434e7",
   "metadata": {},
   "outputs": [],
   "source": [
    "cotacao_maxima = fechamento.max()\n",
    "cotacao_minima = fechamento.min()\n",
    "cotacao_atual = fechamento.iloc[-1]\n",
    "\n",
    "print(cotacao_maxima)\n",
    "print(cotacao_minima)\n",
    "print(cotacao_atual)\n"
   ]
  },
  {
   "cell_type": "code",
   "execution_count": null,
   "id": "f9793311-f0c3-4314-95c2-0517cbccc35d",
   "metadata": {},
   "outputs": [],
   "source": [
    "#Automação da tarefa de enviar um e-mail sobre as cotações das ações obtidas anteriormente no programa:\n",
    "\n",
    "#Instalando a biblioteca:\n",
    "!pip install pyautogui"
   ]
  },
  {
   "cell_type": "code",
   "execution_count": null,
   "id": "d6a17058-c225-4a40-9325-786e9402fd98",
   "metadata": {},
   "outputs": [],
   "source": [
    "#Instalando a biblioteca:\n",
    "!pip install pyperclip\n"
   ]
  },
  {
   "cell_type": "code",
   "execution_count": null,
   "id": "a1708316-2e77-4b3b-878d-3bc7a2cd5555",
   "metadata": {},
   "outputs": [],
   "source": [
    "#Importando as bibliotecas:\n",
    "import pyautogui\n",
    "import pyperclip"
   ]
  },
  {
   "cell_type": "code",
   "execution_count": null,
   "id": "05d66d1c-55bd-4e51-81ae-3aa2071012ab",
   "metadata": {},
   "outputs": [],
   "source": [
    "destinatario = \"nutritirelli@gmail.com\"\n",
    "assunto = \"Análise de cotações\"\n",
    "\n",
    "mensagem_do_email = f\"\"\"\n",
    "Bom dia, \n",
    "\n",
    "Seguem abaixo as cotações referente a ação {ticker} nos últimos seis meses:\n",
    "\n",
    "Cotação máxima = R$ {round(cotacao_maxima,2)}\n",
    "Cotação mínima = R$ {round(cotacao_minima,2)}\n",
    "Cotação atual = R$ {round(cotacao_atual,2)}\n",
    "\n",
    "Atenciosamente,\n",
    "Lucca de Almeida Tirelli\n",
    "\"\"\""
   ]
  },
  {
   "cell_type": "code",
   "execution_count": null,
   "id": "e806b264-5789-44aa-9838-15a294e96bf3",
   "metadata": {},
   "outputs": [],
   "source": [
    "print(destinatario)\n",
    "print(assunto)\n",
    "print(mensagem_do_email)"
   ]
  },
  {
   "cell_type": "code",
   "execution_count": null,
   "id": "49466067-2cc6-4c05-b3df-138e060f50b1",
   "metadata": {},
   "outputs": [],
   "source": [
    "# Configurar uma pausa entre as ações do pyautogui:\n",
    "pyautogui.PAUSE = 2\n",
    "\n",
    "# Abrir uma nova aba:\n",
    "pyautogui.hotkey(\"ctrl\",\"t\")\n",
    "\n",
    "# Copiar o endereço de e-mail para o clipboard:\n",
    "pyperclip.copy(\"www.gmail.com\")\n",
    "\n",
    "# Colar o endereço de e-mail e dar um ENTER:\n",
    "pyautogui.hotkey(\"ctrl\",\"v\")\n",
    "pyautogui.press(\"enter\")\n",
    "\n",
    "# Clicando no botão escrever:\n",
    "pyautogui.click(x=57, y=220)\n",
    "\n",
    "# Preenchendo o destinatário:\n",
    "pyperclip.copy(destinatario)\n",
    "pyautogui.hotkey(\"ctrl\",\"v\")\n",
    "pyautogui.hotkey(\"tab\")\n",
    "\n",
    "\n",
    "# Preenchendo o assunto:\n",
    "pyperclip.copy(assunto)\n",
    "pyautogui.hotkey(\"ctrl\", \"v\")\n",
    "pyautogui.hotkey(\"tab\")\n",
    "\n",
    "# Preenchendo a mensagem:\n",
    "pyperclip.copy(mensagem_do_email)\n",
    "pyautogui.hotkey(\"ctrl\", \"v\")\n",
    "\n",
    "# Clicar no botão enviar:\n",
    "pyautogui.click(x=825 , y=684)\n",
    "\n",
    "# Fechar a aba do gmail:\n",
    "pyautogui.hotkey(\"ctrl\", \"f4\")\n",
    "\n",
    "# Imprimir mensagem de enviado com sucesso:\n",
    "print(\"E-mail enviado com sucesso!\")\n",
    "                 \n",
    "\n"
   ]
  },
  {
   "cell_type": "code",
   "execution_count": null,
   "id": "77d21927-51b3-4fb1-971f-9c139e37fe6b",
   "metadata": {},
   "outputs": [],
   "source": [
    "# Coordenadas do mouse:\n",
    "import time\n",
    "time.sleep(5)\n",
    "pyautogui.position()"
   ]
  },
  {
   "cell_type": "code",
   "execution_count": null,
   "id": "b4ae9bf1-fdb4-4d17-b6eb-7ba425af38b9",
   "metadata": {},
   "outputs": [],
   "source": []
  }
 ],
 "metadata": {
  "kernelspec": {
   "display_name": "Python 3 (ipykernel)",
   "language": "python",
   "name": "python3"
  },
  "language_info": {
   "codemirror_mode": {
    "name": "ipython",
    "version": 3
   },
   "file_extension": ".py",
   "mimetype": "text/x-python",
   "name": "python",
   "nbconvert_exporter": "python",
   "pygments_lexer": "ipython3",
   "version": "3.11.7"
  }
 },
 "nbformat": 4,
 "nbformat_minor": 5
}
